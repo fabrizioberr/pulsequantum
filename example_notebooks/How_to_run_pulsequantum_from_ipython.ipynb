{
 "cells": [
  {
   "cell_type": "markdown",
   "metadata": {},
   "source": [
    "### How to run pulsequantum from ipython notebook"
   ]
  },
  {
   "cell_type": "code",
   "execution_count": 1,
   "metadata": {
    "execution": {
     "iopub.execute_input": "2021-01-20T18:18:47.543930Z",
     "iopub.status.busy": "2021-01-20T18:18:47.542353Z",
     "iopub.status.idle": "2021-01-20T18:18:48.490746Z",
     "shell.execute_reply": "2021-01-20T18:18:48.490126Z"
    }
   },
   "outputs": [],
   "source": [
    "%matplotlib qt\n",
    "import qcodes as qc\n",
    "from  pulsequantum.mainwindow import pulsetable\n",
    "\n",
    "#To use \"Show gateplot\" pulsequantum needs to know your QCoDeS db Location \n",
    "#qc.config[\"core\"][\"db_location\"] = 'C:\\\\Users\\\\rbcma\\\\repos\\\\PulsedMeasurementCode\\\\Amber.db'\n"
   ]
  },
  {
   "cell_type": "code",
   "execution_count": 2,
   "metadata": {
    "execution": {
     "iopub.execute_input": "2021-01-20T18:18:48.494498Z",
     "iopub.status.busy": "2021-01-20T18:18:48.493923Z",
     "iopub.status.idle": "2021-01-20T18:18:48.498142Z",
     "shell.execute_reply": "2021-01-20T18:18:48.498602Z"
    }
   },
   "outputs": [],
   "source": [
    "#mypulsetable = pulsetable()"
   ]
  },
  {
   "cell_type": "code",
   "execution_count": null,
   "metadata": {},
   "outputs": [],
   "source": []
  }
 ],
 "metadata": {
  "kernelspec": {
   "display_name": "Python 3",
   "language": "python",
   "name": "python3"
  },
  "language_info": {
   "codemirror_mode": {
    "name": "ipython",
    "version": 3
   },
   "file_extension": ".py",
   "mimetype": "text/x-python",
   "name": "python",
   "nbconvert_exporter": "python",
   "pygments_lexer": "ipython3",
   "version": "3.7.9"
  }
 },
 "nbformat": 4,
 "nbformat_minor": 4
}
