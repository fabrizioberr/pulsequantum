{
 "cells": [
  {
   "cell_type": "markdown",
   "metadata": {},
   "source": [
    "### How to run pulsequantum from ipython notebook"
   ]
  },
  {
   "cell_type": "code",
   "execution_count": 1,
   "metadata": {
    "execution": {
     "iopub.execute_input": "2021-01-20T14:57:18.810384Z",
     "iopub.status.busy": "2021-01-20T14:57:18.809591Z",
     "iopub.status.idle": "2021-01-20T14:57:19.781461Z",
     "shell.execute_reply": "2021-01-20T14:57:19.780707Z"
    }
   },
   "outputs": [],
   "source": [
    "%matplotlib qt\n",
    "import qcodes as qc\n",
    "from  pulsequantum.mainwindow import pulsetable\n",
    "\n",
    "#To use \"Show gateplot\" pulsequantum needs to know your QCoDeS db Location \n",
    "#qc.config[\"core\"][\"db_location\"] = 'C:\\\\Users\\\\rbcma\\\\repos\\\\PulsedMeasurementCode\\\\Amber.db'\n"
   ]
  },
  {
   "cell_type": "code",
   "execution_count": 2,
   "metadata": {
    "execution": {
     "iopub.execute_input": "2021-01-20T14:57:19.786322Z",
     "iopub.status.busy": "2021-01-20T14:57:19.785624Z",
     "iopub.status.idle": "2021-01-20T14:57:19.788615Z",
     "shell.execute_reply": "2021-01-20T14:57:19.788014Z"
    }
   },
   "outputs": [],
   "source": [
    "#mypulsetable = pulsetable()"
   ]
  },
  {
   "cell_type": "code",
   "execution_count": null,
   "metadata": {},
   "outputs": [],
   "source": []
  }
 ],
 "metadata": {
  "kernelspec": {
   "display_name": "Python 3",
   "language": "python",
   "name": "python3"
  },
  "language_info": {
   "codemirror_mode": {
    "name": "ipython",
    "version": 3
   },
   "file_extension": ".py",
   "mimetype": "text/x-python",
   "name": "python",
   "nbconvert_exporter": "python",
   "pygments_lexer": "ipython3",
   "version": "3.7.9"
  }
 },
 "nbformat": 4,
 "nbformat_minor": 4
}
