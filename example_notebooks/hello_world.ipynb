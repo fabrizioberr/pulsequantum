{
 "cells": [
  {
   "cell_type": "markdown",
   "metadata": {},
   "source": [
    "# Hello, world!\n",
    "\n",
    "This notebook shows you how get a friendly greeting from pulsequantum."
   ]
  },
  {
   "cell_type": "code",
   "execution_count": 1,
   "metadata": {
    "execution": {
     "iopub.execute_input": "2020-12-18T08:35:09.110842Z",
     "iopub.status.busy": "2020-12-18T08:35:09.109975Z",
     "iopub.status.idle": "2020-12-18T08:35:09.368924Z",
     "shell.execute_reply": "2020-12-18T08:35:09.368166Z"
    }
   },
   "outputs": [],
   "source": [
    "from pulsequantum.hello_world import hello_world, greeter"
   ]
  },
  {
   "cell_type": "code",
   "execution_count": 2,
   "metadata": {
    "execution": {
     "iopub.execute_input": "2020-12-18T08:35:09.374596Z",
     "iopub.status.busy": "2020-12-18T08:35:09.373762Z",
     "iopub.status.idle": "2020-12-18T08:35:09.378202Z",
     "shell.execute_reply": "2020-12-18T08:35:09.378894Z"
    }
   },
   "outputs": [
    {
     "name": "stdout",
     "output_type": "stream",
     "text": [
      "Hello, you!\n",
      "and\n",
      "Hello, world! from pulsequantum\n"
     ]
    }
   ],
   "source": [
    "name = \"you\"\n",
    "print(greeter(name))\n",
    "print(\"and\")\n",
    "hello_world()"
   ]
  }
 ],
 "metadata": {
  "kernelspec": {
   "display_name": "Python 3",
   "language": "python",
   "name": "python3"
  },
  "language_info": {
   "codemirror_mode": {
    "name": "ipython",
    "version": 3
   },
   "file_extension": ".py",
   "mimetype": "text/x-python",
   "name": "python",
   "nbconvert_exporter": "python",
   "pygments_lexer": "ipython3",
   "version": "3.7.9"
  }
 },
 "nbformat": 4,
 "nbformat_minor": 4
}
