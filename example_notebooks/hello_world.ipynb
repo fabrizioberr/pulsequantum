{
 "cells": [
  {
   "cell_type": "markdown",
   "metadata": {},
   "source": [
    "# Hello, world!\n",
    "\n",
    "This notebook shows you how get a friendly greeting from pulsequantum."
   ]
  },
  {
   "cell_type": "code",
   "execution_count": 1,
   "metadata": {
    "execution": {
     "iopub.execute_input": "2021-01-20T13:14:02.234736Z",
     "iopub.status.busy": "2021-01-20T13:14:02.233462Z",
     "iopub.status.idle": "2021-01-20T13:14:02.472454Z",
     "shell.execute_reply": "2021-01-20T13:14:02.473354Z"
    }
   },
   "outputs": [],
   "source": [
    "from pulsequantum.hello_world import hello_world, greeter"
   ]
  },
  {
   "cell_type": "code",
   "execution_count": 2,
   "metadata": {
    "execution": {
     "iopub.execute_input": "2021-01-20T13:14:02.478222Z",
     "iopub.status.busy": "2021-01-20T13:14:02.477628Z",
     "iopub.status.idle": "2021-01-20T13:14:02.483312Z",
     "shell.execute_reply": "2021-01-20T13:14:02.483760Z"
    }
   },
   "outputs": [
    {
     "name": "stdout",
     "output_type": "stream",
     "text": [
      "Hello, you!\n",
      "and\n",
      "Hello, world! from pulsequantum\n"
     ]
    }
   ],
   "source": [
    "name = \"you\"\n",
    "print(greeter(name))\n",
    "print(\"and\")\n",
    "hello_world()"
   ]
  }
 ],
 "metadata": {
  "kernelspec": {
   "display_name": "Python 3",
   "language": "python",
   "name": "python3"
  },
  "language_info": {
   "codemirror_mode": {
    "name": "ipython",
    "version": 3
   },
   "file_extension": ".py",
   "mimetype": "text/x-python",
   "name": "python",
   "nbconvert_exporter": "python",
   "pygments_lexer": "ipython3",
   "version": "3.7.9"
  }
 },
 "nbformat": 4,
 "nbformat_minor": 4
}
